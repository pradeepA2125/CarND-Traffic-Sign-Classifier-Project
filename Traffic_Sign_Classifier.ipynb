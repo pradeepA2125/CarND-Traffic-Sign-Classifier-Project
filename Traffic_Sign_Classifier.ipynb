{
 "cells": [
  {
   "cell_type": "markdown",
   "metadata": {
    "colab_type": "text",
    "id": "0tOOfL2zZ7pQ"
   },
   "source": [
    "# Self-Driving Car Engineer Nanodegree\n",
    "\n",
    "## Deep Learning\n",
    "\n",
    "## Project: Build a Traffic Sign Recognition Classifier\n",
    "\n",
    "In this notebook, a template is provided for you to implement your functionality in stages, which is required to successfully complete this project. If additional code is required that cannot be included in the notebook, be sure that the Python code is successfully imported and included in your submission if necessary. \n",
    "\n",
    "> **Note**: Once you have completed all of the code implementations, you need to finalize your work by exporting the iPython Notebook as an HTML document. Before exporting the notebook to html, all of the code cells need to have been run so that reviewers can see the final implementation and output. You can then export the notebook by using the menu above and navigating to  \\n\",\n",
    "    \"**File -> Download as -> HTML (.html)**. Include the finished document along with this notebook as your submission. \n",
    "\n",
    "In addition to implementing code, there is a writeup to complete. The writeup should be completed in a separate file, which can be either a markdown file or a pdf document. There is a [write up template](https://github.com/udacity/CarND-Traffic-Sign-Classifier-Project/blob/master/writeup_template.md) that can be used to guide the writing process. Completing the code template and writeup template will cover all of the [rubric points](https://review.udacity.com/#!/rubrics/481/view) for this project.\n",
    "\n",
    "The [rubric](https://review.udacity.com/#!/rubrics/481/view) contains \"Stand Out Suggestions\" for enhancing the project beyond the minimum requirements. The stand out suggestions are optional. If you decide to pursue the \"stand out suggestions\", you can include the code in this Ipython notebook and also discuss the results in the writeup file.\n",
    "\n",
    "\n",
    ">**Note:** Code and Markdown cells can be executed using the **Shift + Enter** keyboard shortcut. In addition, Markdown cells can be edited by typically double-clicking the cell to enter edit mode."
   ]
  },
  {
   "cell_type": "markdown",
   "metadata": {
    "colab_type": "text",
    "id": "xwBIEkbsZ7pR"
   },
   "source": [
    "---\n",
    "## Step 0: Load The Data"
   ]
  },
  {
   "cell_type": "code",
   "execution_count": 1,
   "metadata": {
    "colab": {
     "autoexec": {
      "startup": false,
      "wait_interval": 0
     },
     "base_uri": "https://localhost:8080/",
     "height": 34,
     "output_extras": [
      {
       "item_id": 1
      }
     ]
    },
    "colab_type": "code",
    "executionInfo": {
     "elapsed": 2231,
     "status": "ok",
     "timestamp": 1519101828406,
     "user": {
      "displayName": "harveen singh",
      "photoUrl": "//lh4.googleusercontent.com/-peYiqFFVHaQ/AAAAAAAAAAI/AAAAAAAAGVo/ysqibM1SdeA/s50-c-k-no/photo.jpg",
      "userId": "108153078120775646699"
     },
     "user_tz": -330
    },
    "id": "WoaDJDCJbI71",
    "outputId": "236913f2-7190-42be-c368-eec2322e0014"
   },
   "outputs": [
    {
     "name": "stdout",
     "output_type": "stream",
     "text": [
      "Data Loaded from pickle files!\n"
     ]
    }
   ],
   "source": [
    "# Load pickled data\n",
    "import pickle\n",
    "\n",
    "# TODO: Fill this in based on where you saved the training and testing data\n",
    "\n",
    "\n",
    "training_file = '../data/train.p'\n",
    "validation_file='../data/valid.p'\n",
    "testing_file = '../data/test.p'\n",
    "\n",
    "with open(training_file, mode='rb') as f:\n",
    "    train = pickle.load(f)\n",
    "with open(validation_file, mode='rb') as f:\n",
    "    valid = pickle.load(f)\n",
    "with open(testing_file, mode='rb') as f:\n",
    "    test = pickle.load(f)\n",
    "    \n",
    "X_train, y_train = train['features'], train['labels']\n",
    "X_valid, y_valid = valid['features'], valid['labels']\n",
    "X_test, y_test = test['features'], test['labels']\n",
    "print(\"Data Loaded from pickle files!\")"
   ]
  },
  {
   "cell_type": "markdown",
   "metadata": {
    "colab_type": "text",
    "id": "pss2ts54Z7p4"
   },
   "source": [
    "---\n",
    "\n",
    "## Step 1: Dataset Summary & Exploration\n",
    "\n",
    "The pickled data is a dictionary with 4 key/value pairs:\n",
    "\n",
    "- `'features'` is a 4D array containing raw pixel data of the traffic sign images, (num examples, width, height, channels).\n",
    "- `'labels'` is a 1D array containing the label/class id of the traffic sign. The file `signnames.csv` contains id -> name mappings for each id.\n",
    "- `'sizes'` is a list containing tuples, (width, height) representing the original width and height the image.\n",
    "- `'coords'` is a list containing tuples, (x1, y1, x2, y2) representing coordinates of a bounding box around the sign in the image. **THESE COORDINATES ASSUME THE ORIGINAL IMAGE. THE PICKLED DATA CONTAINS RESIZED VERSIONS (32 by 32) OF THESE IMAGES**\n",
    "\n",
    "Complete the basic data summary below. Use python, numpy and/or pandas methods to calculate the data summary rather than hard coding the results. For example, the [pandas shape method](http://pandas.pydata.org/pandas-docs/stable/generated/pandas.DataFrame.shape.html) might be useful for calculating some of the summary results. "
   ]
  },
  {
   "cell_type": "markdown",
   "metadata": {
    "colab_type": "text",
    "id": "hgjzaxh9Z7p5"
   },
   "source": [
    "### Provide a Basic Summary of the Data Set Using Python, Numpy and/or Pandas"
   ]
  },
  {
   "cell_type": "code",
   "execution_count": 2,
   "metadata": {
    "colab": {
     "autoexec": {
      "startup": false,
      "wait_interval": 0
     },
     "base_uri": "https://localhost:8080/",
     "height": 102,
     "output_extras": [
      {
       "item_id": 1
      }
     ]
    },
    "colab_type": "code",
    "executionInfo": {
     "elapsed": 1379,
     "status": "ok",
     "timestamp": 1519101830411,
     "user": {
      "displayName": "harveen singh",
      "photoUrl": "//lh4.googleusercontent.com/-peYiqFFVHaQ/AAAAAAAAAAI/AAAAAAAAGVo/ysqibM1SdeA/s50-c-k-no/photo.jpg",
      "userId": "108153078120775646699"
     },
     "user_tz": -330
    },
    "id": "m2zAY87-Z7p6",
    "outputId": "b2ef840d-b8a9-4ccb-e7a6-f6b64478831d"
   },
   "outputs": [
    {
     "name": "stdout",
     "output_type": "stream",
     "text": [
      "Number of training examples = 34799\n",
      "Number of validation examples = 4410\n",
      "Number of testing examples = 12630\n",
      "Image data shape = (32, 32, 3)\n",
      "Number of classes = 43\n"
     ]
    }
   ],
   "source": [
    "### Replace each question mark with the appropriate value. \n",
    "### Use python, pandas or numpy methods rather than hard coding the results\n",
    "\n",
    "\n",
    "import numpy as np\n",
    "\n",
    "# Number of training examples\n",
    "n_train = np.shape(X_train)[0]\n",
    "\n",
    "# Number of validation examples\n",
    "n_validation = np.shape(X_valid)[0]\n",
    "\n",
    "# Number of testing examples.\n",
    "n_test = np.shape(X_test)[0]\n",
    "\n",
    "# What's the shape of an traffic sign image?\n",
    "image_shape = np.shape(X_train[0])\n",
    "\n",
    "# How many unique classes/labels there are in the dataset.\n",
    "n_classes = len(np.unique(y_train))\n",
    "\n",
    "print(\"Number of training examples =\", n_train)\n",
    "print(\"Number of validation examples =\", n_validation)\n",
    "print(\"Number of testing examples =\", n_test)\n",
    "print(\"Image data shape =\", image_shape)\n",
    "print(\"Number of classes =\", n_classes)"
   ]
  },
  {
   "cell_type": "markdown",
   "metadata": {
    "colab_type": "text",
    "id": "ll2iXd98Z7p_"
   },
   "source": [
    "### Include an exploratory visualization of the dataset"
   ]
  },
  {
   "cell_type": "markdown",
   "metadata": {
    "colab_type": "text",
    "id": "XAW_T_1gZ7qA"
   },
   "source": [
    "Visualize the German Traffic Signs Dataset using the pickled file(s). This is open ended, suggestions include: plotting traffic sign images, plotting the count of each sign, etc. \n",
    "\n",
    "The [Matplotlib](http://matplotlib.org/) [examples](http://matplotlib.org/examples/index.html) and [gallery](http://matplotlib.org/gallery.html) pages are a great resource for doing visualizations in Python.\n",
    "\n",
    "**NOTE:** It's recommended you start with something simple first. If you wish to do more, come back to it after you've completed the rest of the sections. It can be interesting to look at the distribution of classes in the training, validation and test set. Is the distribution the same? Are there more examples of some classes than others?"
   ]
  },
  {
   "cell_type": "code",
   "execution_count": 3,
   "metadata": {
    "colab": {
     "autoexec": {
      "startup": false,
      "wait_interval": 0
     },
     "base_uri": "https://localhost:8080/",
     "height": 520,
     "output_extras": [
      {
       "item_id": 1
      },
      {
       "item_id": 2
      }
     ]
    },
    "colab_type": "code",
    "executionInfo": {
     "elapsed": 8756,
     "status": "ok",
     "timestamp": 1519107328454,
     "user": {
      "displayName": "harveen singh",
      "photoUrl": "//lh4.googleusercontent.com/-peYiqFFVHaQ/AAAAAAAAAAI/AAAAAAAAGVo/ysqibM1SdeA/s50-c-k-no/photo.jpg",
      "userId": "108153078120775646699"
     },
     "user_tz": -330
    },
    "id": "Lu1q8bX5Z7qC",
    "outputId": "d17609b7-ca88-4b81-9fa3-fd29227c51ff"
   },
   "outputs": [
    {
     "data": {
      "image/png": "[encoded data removed]",
      "text/plain": [
       "<matplotlib.figure.Figure at 0x7fbe58266b00>"
      ]
     },
     "metadata": {
      "needs_background": "light"
     },
     "output_type": "display_data"
    }
   ],
   "source": [
    "### Data exploration visualization code goes here.\n",
    "### Feel free to use as many code cells as needed.\n",
    "import matplotlib.pyplot as plt\n",
    "# Visualizations will be shown in the notebook.\n",
    "%matplotlib inline\n",
    "\n",
    "\n",
    "#uni,index,count=np.unique(y_train,return_index=true,return_count=true)\n",
    "class_arr= []\n",
    "samples_arr=[]\n",
    "\n",
    "for class_n in range(n_classes):\n",
    "    class_indices = np.where(y_train == class_n)\n",
    "    n_samples = len(class_indices[0])\n",
    "    class_arr.append(class_n)\n",
    "    samples_arr.append(n_samples)\n",
    "    \n",
    "#plt.hist(y_train,bins=43)\n",
    "plt.bar( class_arr, samples_arr,align='center', alpha=0.5)\n",
    "plt.ylabel('Classes')\n",
    "plt.xlabel('No of Samples')\n",
    "plt.title('Data Visualization')\n",
    "plt.show()\n"
   ]
  },
  {
   "cell_type": "markdown",
   "metadata": {
    "colab_type": "text",
    "id": "73Eu01_0Z7qK"
   },
   "source": [
    "----\n",
    "\n",
    "## Step 2: Design and Test a Model Architecture\n",
    "\n",
    "Design and implement a deep learning model that learns to recognize traffic signs. Train and test your model on the [German Traffic Sign Dataset](http://benchmark.ini.rub.de/?section=gtsrb&subsection=dataset).\n",
    "\n",
    "The LeNet-5 implementation shown in the [classroom](https://classroom.udacity.com/nanodegrees/nd013/parts/fbf77062-5703-404e-b60c-95b78b2f3f9e/modules/6df7ae49-c61c-4bb2-a23e-6527e69209ec/lessons/601ae704-1035-4287-8b11-e2c2716217ad/concepts/d4aca031-508f-4e0b-b493-e7b706120f81) at the end of the CNN lesson is a solid starting point. You'll have to change the number of classes and possibly the preprocessing, but aside from that it's plug and play! \n",
    "\n",
    "With the LeNet-5 solution from the lecture, you should expect a validation set accuracy of about 0.89. To meet specifications, the validation set accuracy will need to be at least 0.93. It is possible to get an even higher accuracy, but 0.93 is the minimum for a successful project submission. \n",
    "\n",
    "There are various aspects to consider when thinking about this problem:\n",
    "\n",
    "- Neural network architecture (is the network over or underfitting?)\n",
    "- Play around preprocessing techniques (normalization, rgb to grayscale, etc)\n",
    "- Number of examples per label (some have more than others).\n",
    "- Generate fake data.\n",
    "\n",
    "Here is an example of a [published baseline model on this problem](http://yann.lecun.com/exdb/publis/pdf/sermanet-ijcnn-11.pdf). It's not required to be familiar with the approach used in the paper but, it's good practice to try to read papers like these."
   ]
  },
  {
   "cell_type": "markdown",
   "metadata": {
    "colab_type": "text",
    "id": "RRQm-qxBZ7qM"
   },
   "source": [
    "### Pre-process the Data Set (normalization, grayscale, etc.)"
   ]
  },
  {
   "cell_type": "markdown",
   "metadata": {
    "colab_type": "text",
    "id": "_7bK5gc3Z7qM"
   },
   "source": [
    "Minimally, the image data should be normalized so that the data has mean zero and equal variance. For image data, `(pixel - 128)/ 128` is a quick way to approximately normalize the data and can be used in this project. \n",
    "\n",
    "Other pre-processing steps are optional. You can try different techniques to see if it improves performance. \n",
    "\n",
    "Use the code cell (or multiple code cells, if necessary) to implement the first step of your project."
   ]
  },
  {
   "cell_type": "code",
   "execution_count": 4,
   "metadata": {
    "colab": {
     "autoexec": {
      "startup": false,
      "wait_interval": 0
     }
    },
    "colab_type": "code",
    "id": "389kAz10Z7qR"
   },
   "outputs": [],
   "source": [
    "#Shuffle Data\n",
    "\n",
    "from sklearn.utils import shuffle\n",
    "X_train, y_train = shuffle(X_train, y_train)"
   ]
  },
  {
   "cell_type": "code",
   "execution_count": 51,
   "metadata": {
    "colab": {
     "autoexec": {
      "startup": false,
      "wait_interval": 0
     }
    },
    "colab_type": "code",
    "id": "l1sH6Ao7Z7qW"
   },
   "outputs": [],
   "source": [
    "#importing tensorflow\n",
    "import tensorflow as tf\n",
    "\n",
    "#setting the hyperparameters, no of iterations and batch_size\n",
    "EPOCHS = 80\n",
    "BATCH_SIZE = 128"
   ]
  },
  {
   "cell_type": "markdown",
   "metadata": {
    "colab_type": "text",
    "id": "Ghb_knJrZ7qb"
   },
   "source": [
    "### Model Architecture"
   ]
  },
  {
   "cell_type": "code",
   "execution_count": 52,
   "metadata": {
    "colab": {
     "autoexec": {
      "startup": false,
      "wait_interval": 0
     }
    },
    "colab_type": "code",
    "id": "9aH4REckZ7qf"
   },
   "outputs": [],
   "source": [
    "from tensorflow.contrib.layers import flatten\n",
    "\n",
    "def LeNet(x):    \n",
    "    # Arguments used for tf.truncated_normal, randomly defines variables for the weights and biases for each layer\n",
    "    mu = 0\n",
    "    sigma = 0.1\n",
    "    \n",
    "    # Layer 1: Convolutional. Input = 32x32x1. Output = 28x28x6.\n",
    "    conv1_W= tf.Variable(tf.truncated_normal(shape=(5,5,3,6), mean=mu, stddev=sigma))\n",
    "    conv1_b= tf.Variable(tf.zeros(6))\n",
    "    conv1= tf.nn.conv2d(x,conv1_W,strides=[1,1,1,1],padding='VALID',use_cudnn_on_gpu=True) + conv1_b\n",
    "\n",
    "    # Activation.\n",
    "    conv1= tf.nn.relu(conv1)\n",
    "\n",
    "    # Layer 2: Convolutional. Input = 28x28x6. Output = 14x14x10.\n",
    "    conv3_W= tf.Variable(tf.truncated_normal(shape=(5,5,6,10), mean=mu, stddev=sigma))\n",
    "    conv3_b= tf.Variable(tf.zeros(10))\n",
    "    conv3= tf.nn.conv2d(conv1,conv3_W,strides=[1,2,2,1],padding='VALID',use_cudnn_on_gpu=True) + conv3_b\n",
    "\n",
    "    # Activation.\n",
    "    conv3= tf.nn.relu(conv3)\n",
    "\n",
    "    # Layer 3: Convolutional. Input = 14x14x10. Output = 8x8x16.\n",
    "    conv2_W= tf.Variable(tf.truncated_normal(shape=(5,5,10,16),mean=mu,stddev=sigma))\n",
    "    conv2_b=tf.Variable(tf.zeros(16))\n",
    "    conv2= tf.nn.conv2d(conv3,conv2_W,strides=[1,1,1,1],padding='VALID',use_cudnn_on_gpu=True) + conv2_b\n",
    "    \n",
    "    # Activation.\n",
    "    conv2= tf.nn.relu(conv2)\n",
    "\n",
    "    # Pooling. Input = 8x8x16. Output = 4x4x16.\n",
    "    conv2= tf.nn.max_pool(conv2,ksize=[1,2,2,1],strides=[1,2,2,1],padding='VALID')\n",
    "\n",
    "    # Flatten. Input = 4x4x16. Output = 256.\n",
    "    f= flatten(conv2)\n",
    "\n",
    "    # Layer 4: Fully Connected. Input = 256. Output = 120.\n",
    "    fc1_W= tf.Variable(tf.truncated_normal(shape=(int(np.shape(f)[1]),120),mean=mu,stddev=sigma))\n",
    "    fc1_b= tf.Variable(tf.zeros(shape=120))\n",
    "    fc1= tf.matmul(f,fc1_W) + fc1_b\n",
    "    \n",
    "    # Activation.\n",
    "    fc1= tf.nn.relu(fc1)\n",
    "    \n",
    "    # Introduce Dropout after first fully connected layer\n",
    "    fc1 = tf.nn.dropout(fc1, keep_prob)\n",
    "\n",
    "    # Layer 5: Fully Connected. Input = 120. Output = 100.\n",
    "    fc2_W= tf.Variable(tf.truncated_normal(shape=(120,100),mean=mu,stddev=sigma))\n",
    "    fc2_b= tf.Variable(tf.zeros(100))\n",
    "    fc2= tf.matmul(fc1,fc2_W) + fc2_b\n",
    "    \n",
    "    # Activation.\n",
    "    fc2= tf.nn.relu(fc2)\n",
    "    \n",
    "    # Layer 6: Fully Connected. Input = 100. Output = 84.\n",
    "    fc4_W= tf.Variable(tf.truncated_normal(shape=(100,84),mean=mu,stddev=sigma))\n",
    "    fc4_b= tf.Variable(tf.zeros(84))\n",
    "    fc4= tf.matmul(fc2,fc4_W) + fc4_b\n",
    "    \n",
    "    # Activation.\n",
    "    fc4= tf.nn.relu(fc4)\n",
    "    \n",
    "    # Layer 7: Fully Connected. Input = 84. Output = 43.\n",
    "    fc3_W= tf.Variable(tf.truncated_normal(shape=(84,43),mean=mu,stddev=sigma))\n",
    "    fc3_b= tf.Variable(tf.zeros(43))\n",
    "    fc3= tf.matmul(fc4,fc3_W) + fc3_b\n",
    "    logits=fc3\n",
    "        \n",
    "    return logits"
   ]
  },
  {
   "cell_type": "code",
   "execution_count": 53,
   "metadata": {
    "colab": {
     "autoexec": {
      "startup": false,
      "wait_interval": 0
     },
     "base_uri": "https://localhost:8080/",
     "height": 34,
     "output_extras": [
      {
       "item_id": 1
      }
     ]
    },
    "colab_type": "code",
    "executionInfo": {
     "elapsed": 1533,
     "status": "ok",
     "timestamp": 1519101845455,
     "user": {
      "displayName": "harveen singh",
      "photoUrl": "//lh4.googleusercontent.com/-peYiqFFVHaQ/AAAAAAAAAAI/AAAAAAAAGVo/ysqibM1SdeA/s50-c-k-no/photo.jpg",
      "userId": "108153078120775646699"
     },
     "user_tz": -330
    },
    "id": "-7s2g7RxZ7qj",
    "outputId": "4ee2e6b5-3304-49fd-9342-e14d5c0162fb"
   },
   "outputs": [],
   "source": [
    "x = tf.placeholder(tf.float32, (None, 32, 32, 3))\n",
    "y = tf.placeholder(tf.int32, (None))\n",
    "one_hot_y = tf.one_hot(y, 43) # one hot encoding for output labels\n",
    "keep_prob = tf.placeholder(tf.float32) # defining the dropout probability after fully connected layer in the architecture\n"
   ]
  },
  {
   "cell_type": "markdown",
   "metadata": {
    "colab_type": "text",
    "id": "4tGESF8yZ7qn"
   },
   "source": [
    "### Train, Validate and Test the Model"
   ]
  },
  {
   "cell_type": "markdown",
   "metadata": {
    "colab_type": "text",
    "id": "bkOvVlANZ7qo"
   },
   "source": [
    "A validation set can be used to assess how well the model is performing. A low accuracy on the training and validation\n",
    "sets imply underfitting. A high accuracy on the training set but low accuracy on the validation set implies overfitting."
   ]
  },
  {
   "cell_type": "code",
   "execution_count": 54,
   "metadata": {
    "colab": {
     "autoexec": {
      "startup": false,
      "wait_interval": 0
     }
    },
    "colab_type": "code",
    "id": "YEDYiyORZ7qo"
   },
   "outputs": [],
   "source": [
    "rate = 0.0009 #learning rate\n",
    "\n",
    "#defining various operations\n",
    "logits = LeNet(x) \n",
    "cross_entropy = tf.nn.softmax_cross_entropy_with_logits(labels=one_hot_y, logits=logits)\n",
    "loss_operation = tf.reduce_mean(cross_entropy)\n",
    "optimizer = tf.train.AdamOptimizer(learning_rate = rate)\n",
    "training_operation = optimizer.minimize(loss_operation)"
   ]
  },
  {
   "cell_type": "code",
   "execution_count": 55,
   "metadata": {
    "colab": {
     "autoexec": {
      "startup": false,
      "wait_interval": 0
     }
    },
    "colab_type": "code",
    "id": "FRKoO6kSZ7qs"
   },
   "outputs": [],
   "source": [
    "correct_prediction = tf.equal(tf.argmax(logits, 1), tf.argmax(one_hot_y, 1))\n",
    "accuracy_operation = tf.reduce_mean(tf.cast(correct_prediction, tf.float32))\n",
    "saver = tf.train.Saver()\n",
    "\n",
    "def evaluate(X_data, y_data):\n",
    "    num_examples = len(X_data)\n",
    "    total_accuracy = 0\n",
    "    total_loss=0\n",
    "    sess = tf.get_default_session()\n",
    "    for offset in range(0, num_examples, BATCH_SIZE):\n",
    "        batch_x, batch_y = X_data[offset:offset+BATCH_SIZE], y_data[offset:offset+BATCH_SIZE]\n",
    "        accuracy,loss = sess.run([accuracy_operation,loss_operation],feed_dict={x: batch_x, y: batch_y,keep_prob:1})\n",
    "        total_accuracy += (accuracy * len(batch_x))\n",
    "        total_loss+= (loss*len(batch_x)) # getting the total loss to plot a graph later\n",
    "    return total_accuracy / num_examples, total_loss/num_examples"
   ]
  },
  {
   "cell_type": "code",
   "execution_count": 56,
   "metadata": {
    "colab": {
     "autoexec": {
      "startup": false,
      "wait_interval": 0
     },
     "base_uri": "https://localhost:8080/",
     "height": 2370,
     "output_extras": [
      {
       "item_id": 41
      },
      {
       "item_id": 42
      },
      {
       "item_id": 43
      }
     ]
    },
    "colab_type": "code",
    "executionInfo": {
     "elapsed": 116915,
     "status": "ok",
     "timestamp": 1519103429422,
     "user": {
      "displayName": "harveen singh",
      "photoUrl": "//lh4.googleusercontent.com/-peYiqFFVHaQ/AAAAAAAAAAI/AAAAAAAAGVo/ysqibM1SdeA/s50-c-k-no/photo.jpg",
      "userId": "108153078120775646699"
     },
     "user_tz": -330
    },
    "id": "3FmltNwNZ7qv",
    "outputId": "373c2038-696d-4990-9f31-caf72bbbdc81"
   },
   "outputs": [
    {
     "name": "stdout",
     "output_type": "stream",
     "text": [
      "Training...\n",
      "\n",
      "EPOCH 1 ...\n",
      "Validation Accuracy = 0.566\n",
      "\n",
      "EPOCH 2 ...\n",
      "Validation Accuracy = 0.780\n",
      "\n",
      "EPOCH 3 ...\n",
      "Validation Accuracy = 0.847\n",
      "\n",
      "EPOCH 4 ...\n",
      "Validation Accuracy = 0.878\n",
      "\n",
      "EPOCH 5 ...\n",
      "Validation Accuracy = 0.898\n",
      "\n",
      "EPOCH 6 ...\n",
      "Validation Accuracy = 0.900\n",
      "\n",
      "EPOCH 7 ...\n",
      "Validation Accuracy = 0.927\n",
      "\n",
      "EPOCH 8 ...\n",
      "Validation Accuracy = 0.937\n",
      "\n",
      "EPOCH 9 ...\n",
      "Validation Accuracy = 0.944\n",
      "\n",
      "EPOCH 10 ...\n",
      "Validation Accuracy = 0.936\n",
      "\n",
      "EPOCH 11 ...\n",
      "Validation Accuracy = 0.943\n",
      "\n",
      "EPOCH 12 ...\n",
      "Validation Accuracy = 0.943\n",
      "\n",
      "EPOCH 13 ...\n",
      "Validation Accuracy = 0.943\n",
      "\n",
      "EPOCH 14 ...\n",
      "Validation Accuracy = 0.945\n",
      "\n",
      "EPOCH 15 ...\n",
      "Validation Accuracy = 0.946\n",
      "\n",
      "EPOCH 16 ...\n",
      "Validation Accuracy = 0.950\n",
      "\n",
      "EPOCH 17 ...\n",
      "Validation Accuracy = 0.958\n",
      "\n",
      "EPOCH 18 ...\n",
      "Validation Accuracy = 0.952\n",
      "\n",
      "EPOCH 19 ...\n",
      "Validation Accuracy = 0.954\n",
      "\n",
      "EPOCH 20 ...\n",
      "Validation Accuracy = 0.959\n",
      "\n",
      "EPOCH 21 ...\n",
      "Validation Accuracy = 0.952\n",
      "\n",
      "EPOCH 22 ...\n",
      "Validation Accuracy = 0.959\n",
      "\n",
      "EPOCH 23 ...\n",
      "Validation Accuracy = 0.956\n",
      "\n",
      "EPOCH 24 ...\n",
      "Validation Accuracy = 0.960\n",
      "\n",
      "EPOCH 25 ...\n",
      "Validation Accuracy = 0.961\n",
      "\n",
      "EPOCH 26 ...\n",
      "Validation Accuracy = 0.955\n",
      "\n",
      "EPOCH 27 ...\n",
      "Validation Accuracy = 0.964\n",
      "\n",
      "EPOCH 28 ...\n",
      "Validation Accuracy = 0.963\n",
      "\n",
      "EPOCH 29 ...\n",
      "Validation Accuracy = 0.964\n",
      "\n",
      "EPOCH 30 ...\n",
      "Validation Accuracy = 0.969\n",
      "\n",
      "EPOCH 31 ...\n",
      "Validation Accuracy = 0.960\n",
      "\n",
      "EPOCH 32 ...\n",
      "Validation Accuracy = 0.961\n",
      "\n",
      "EPOCH 33 ...\n",
      "Validation Accuracy = 0.964\n",
      "\n",
      "EPOCH 34 ...\n",
      "Validation Accuracy = 0.962\n",
      "\n",
      "EPOCH 35 ...\n",
      "Validation Accuracy = 0.964\n",
      "\n",
      "EPOCH 36 ...\n",
      "Validation Accuracy = 0.957\n",
      "\n",
      "EPOCH 37 ...\n",
      "Validation Accuracy = 0.964\n",
      "\n",
      "EPOCH 38 ...\n",
      "Validation Accuracy = 0.964\n",
      "\n",
      "EPOCH 39 ...\n",
      "Validation Accuracy = 0.967\n",
      "\n",
      "EPOCH 40 ...\n",
      "Validation Accuracy = 0.952\n",
      "\n",
      "EPOCH 41 ...\n",
      "Validation Accuracy = 0.961\n",
      "\n",
      "EPOCH 42 ...\n",
      "Validation Accuracy = 0.964\n",
      "\n",
      "EPOCH 43 ...\n",
      "Validation Accuracy = 0.968\n",
      "\n",
      "EPOCH 44 ...\n",
      "Validation Accuracy = 0.965\n",
      "\n",
      "EPOCH 45 ...\n",
      "Validation Accuracy = 0.966\n",
      "\n",
      "EPOCH 46 ...\n",
      "Validation Accuracy = 0.959\n",
      "\n",
      "EPOCH 47 ...\n",
      "Validation Accuracy = 0.966\n",
      "\n",
      "EPOCH 48 ...\n",
      "Validation Accuracy = 0.946\n",
      "\n",
      "EPOCH 49 ...\n",
      "Validation Accuracy = 0.965\n",
      "\n",
      "EPOCH 50 ...\n",
      "Validation Accuracy = 0.964\n",
      "\n",
      "EPOCH 51 ...\n",
      "Validation Accuracy = 0.974\n",
      "\n",
      "EPOCH 52 ...\n",
      "Validation Accuracy = 0.963\n",
      "\n",
      "EPOCH 53 ...\n",
      "Validation Accuracy = 0.966\n",
      "\n",
      "EPOCH 54 ...\n",
      "Validation Accuracy = 0.971\n",
      "\n",
      "EPOCH 55 ...\n",
      "Validation Accuracy = 0.971\n",
      "\n",
      "EPOCH 56 ...\n",
      "Validation Accuracy = 0.968\n",
      "\n",
      "EPOCH 57 ...\n",
      "Validation Accuracy = 0.968\n",
      "\n",
      "EPOCH 58 ...\n",
      "Validation Accuracy = 0.964\n",
      "\n",
      "EPOCH 59 ...\n",
      "Validation Accuracy = 0.966\n",
      "\n",
      "EPOCH 60 ...\n",
      "Validation Accuracy = 0.972\n",
      "\n",
      "EPOCH 61 ...\n",
      "Validation Accuracy = 0.969\n",
      "\n",
      "EPOCH 62 ...\n",
      "Validation Accuracy = 0.967\n",
      "\n",
      "EPOCH 63 ...\n",
      "Validation Accuracy = 0.967\n",
      "\n",
      "EPOCH 64 ...\n",
      "Validation Accuracy = 0.973\n",
      "\n",
      "EPOCH 65 ...\n",
      "Validation Accuracy = 0.971\n",
      "\n",
      "EPOCH 66 ...\n",
      "Validation Accuracy = 0.969\n",
      "\n",
      "EPOCH 67 ...\n",
      "Validation Accuracy = 0.967\n",
      "\n",
      "EPOCH 68 ...\n",
      "Validation Accuracy = 0.963\n",
      "\n",
      "EPOCH 69 ...\n",
      "Validation Accuracy = 0.969\n",
      "\n",
      "EPOCH 70 ...\n",
      "Validation Accuracy = 0.967\n",
      "\n",
      "EPOCH 71 ...\n",
      "Validation Accuracy = 0.969\n",
      "\n",
      "EPOCH 72 ...\n",
      "Validation Accuracy = 0.967\n",
      "\n",
      "EPOCH 73 ...\n",
      "Validation Accuracy = 0.966\n",
      "\n",
      "EPOCH 74 ...\n",
      "Validation Accuracy = 0.970\n",
      "\n",
      "EPOCH 75 ...\n",
      "Validation Accuracy = 0.973\n",
      "\n",
      "EPOCH 76 ...\n",
      "Validation Accuracy = 0.965\n",
      "\n",
      "EPOCH 77 ...\n",
      "Validation Accuracy = 0.972\n",
      "\n",
      "EPOCH 78 ...\n",
      "Validation Accuracy = 0.973\n",
      "\n",
      "EPOCH 79 ...\n",
      "Validation Accuracy = 0.964\n",
      "\n",
      "EPOCH 80 ...\n",
      "Validation Accuracy = 0.969\n",
      "\n"
     ]
    },
    {
     "data": {
      "image/png": "[encoded data removed]",
      "text/plain": [
       "<matplotlib.figure.Figure at 0x7fbe24d72ef0>"
      ]
     },
     "metadata": {
      "needs_background": "light"
     },
     "output_type": "display_data"
    },
    {
     "name": "stdout",
     "output_type": "stream",
     "text": [
      "Model saved\n"
     ]
    }
   ],
   "source": [
    "with tf.Session() as sess:\n",
    "    sess.run(tf.global_variables_initializer())\n",
    "    num_examples = len(X_train)\n",
    "    \n",
    "    print(\"Training...\")\n",
    "    print()\n",
    "    loss_Acc=[]\n",
    "    for i in range(EPOCHS):\n",
    "        X_train, y_train = shuffle(X_train, y_train)\n",
    "        for offset in range(0, num_examples, BATCH_SIZE):\n",
    "            end = offset + BATCH_SIZE\n",
    "            batch_x, batch_y = X_train[offset:end], y_train[offset:end]\n",
    "            sess.run(training_operation, feed_dict={x: batch_x, y: batch_y,keep_prob:0.5})\n",
    "            \n",
    "        validation_accuracy,loss_acc = evaluate(X_valid, y_valid)\n",
    "       \n",
    "        print(\"EPOCH {} ...\".format(i+1))\n",
    "        loss_Acc.append(loss_acc)\n",
    "        print(\"Validation Accuracy = {:.3f}\".format(validation_accuracy))\n",
    "        print()\n",
    "    plt.plot(range(0,EPOCHS),loss_Acc)\n",
    "    plt.ylabel('loss')\n",
    "    plt.xlabel('Epochs')\n",
    "    plt.grid(True)\n",
    "    plt.show()\n",
    "    saver.save(sess, './trafficTest')\n",
    "    print(\"Model saved\")"
   ]
  },
  {
   "cell_type": "code",
   "execution_count": 61,
   "metadata": {},
   "outputs": [
    {
     "name": "stdout",
     "output_type": "stream",
     "text": [
      "INFO:tensorflow:Restoring parameters from ./trafficTest\n",
      "Test Accuracy = 0.957\n"
     ]
    }
   ],
   "source": [
    "# Check Test Accuracy\n",
    "\n",
    "with tf.Session() as sess:\n",
    "    saver.restore(sess, tf.train.latest_checkpoint('.'))\n",
    "    test_accuracy = evaluate(X_test, y_test)\n",
    "    print(\"Test Accuracy = {:.3f}\".format(test_accuracy[0]))"
   ]
  },
  {
   "cell_type": "markdown",
   "metadata": {
    "colab_type": "text",
    "id": "8g8-1wQjZ7q2"
   },
   "source": [
    "---\n",
    "\n",
    "## Step 3: Test a Model on New Images\n",
    "\n",
    "To give yourself more insight into how your model is working, download at least five pictures of German traffic signs from the web and use your model to predict the traffic sign type.\n",
    "\n",
    "You may find `signnames.csv` useful as it contains mappings from the class id (integer) to the actual sign name."
   ]
  },
  {
   "cell_type": "markdown",
   "metadata": {
    "colab_type": "text",
    "id": "8JCqKffuZ7q4"
   },
   "source": [
    "### Load and Output the Images"
   ]
  },
  {
   "cell_type": "code",
   "execution_count": 62,
   "metadata": {
    "colab": {
     "autoexec": {
      "startup": false,
      "wait_interval": 0
     },
     "base_uri": "https://localhost:8080/",
     "height": 51,
     "output_extras": [
      {
       "item_id": 2
      }
     ]
    },
    "colab_type": "code",
    "executionInfo": {
     "elapsed": 2288,
     "status": "ok",
     "timestamp": 1519100509968,
     "user": {
      "displayName": "harveen singh",
      "photoUrl": "//lh4.googleusercontent.com/-peYiqFFVHaQ/AAAAAAAAAAI/AAAAAAAAGVo/ysqibM1SdeA/s50-c-k-no/photo.jpg",
      "userId": "108153078120775646699"
     },
     "user_tz": -330
    },
    "id": "W9t0St5GZ7q5",
    "outputId": "b8e1deb3-829a-482b-fe3c-0deac250ea16"
   },
   "outputs": [
    {
     "data": {
      "image/png": "[encoded data removed]",
      "text/plain": [
       "<matplotlib.figure.Figure at 0x7fbe24b85f98>"
      ]
     },
     "metadata": {
      "needs_background": "light"
     },
     "output_type": "display_data"
    },
    {
     "data": {
      "image/png": "[encoded data removed]",
      "text/plain": [
       "<matplotlib.figure.Figure at 0x7fbe237a09e8>"
      ]
     },
     "metadata": {
      "needs_background": "light"
     },
     "output_type": "display_data"
    },
    {
     "data": {
      "image/png": "[encoded data removed]",
      "text/plain": [
       "<matplotlib.figure.Figure at 0x7fbe23757390>"
      ]
     },
     "metadata": {
      "needs_background": "light"
     },
     "output_type": "display_data"
    },
    {
     "data": {
      "image/png": "[encoded data removed]",
      "text/plain": [
       "<matplotlib.figure.Figure at 0x7fbdd80daf98>"
      ]
     },
     "metadata": {
      "needs_background": "light"
     },
     "output_type": "display_data"
    },
    {
     "data": {
      "image/png": "[encoded data removed]",
      "text/plain": [
       "<matplotlib.figure.Figure at 0x7fbdd80eef60>"
      ]
     },
     "metadata": {
      "needs_background": "light"
     },
     "output_type": "display_data"
    }
   ],
   "source": [
    "### Load the images and plot them here.\n",
    "### Feel free to use as many code cells as needed.\n",
    "import os\n",
    "import matplotlib.image as mpimg\n",
    "import cv2\n",
    "\n",
    "my_images = []\n",
    "\n",
    "for i, img in enumerate(os.listdir('downloaded images')):\n",
    "    image = cv2.imread('downloaded images/' + img)\n",
    "    my_images.append(image)\n",
    "    plt.figure()\n",
    "    plt.xlabel(img)\n",
    "    plt.imshow(image)\n",
    "\n",
    "\n",
    "\n",
    "my_images = np.asarray(my_images)\n",
    "\n"
   ]
  },
  {
   "cell_type": "markdown",
   "metadata": {
    "colab_type": "text",
    "id": "FtGUoHlLZ7q8"
   },
   "source": [
    "### Predict the Sign Type for Each Image and Analyze Performance"
   ]
  },
  {
   "cell_type": "code",
   "execution_count": 63,
   "metadata": {
    "colab": {
     "autoexec": {
      "startup": false,
      "wait_interval": 0
     }
    },
    "colab_type": "code",
    "id": "16LMmwvmZ7q9"
   },
   "outputs": [
    {
     "name": "stdout",
     "output_type": "stream",
     "text": [
      "INFO:tensorflow:Restoring parameters from ./trafficTest\n",
      "Test Accuracy = 0.600\n"
     ]
    }
   ],
   "source": [
    "### Run the predictions here and use the model to output the prediction for each image.\n",
    "### Make sure to pre-process the images with the same pre-processing pipeline used earlier.\n",
    "### Feel free to use as many code cells as needed.\n",
    "\n",
    "my_labels = [31,27,35, 17, 29]\n",
    "# Check Test Accuracy\n",
    "\n",
    "with tf.Session() as sess:\n",
    "    saver.restore(sess, tf.train.latest_checkpoint('.'))\n",
    "    output_accuracy = evaluate(my_images, my_labels)\n",
    "    print(\"Test Accuracy = {:.3f}\".format(output_accuracy[0]))"
   ]
  },
  {
   "cell_type": "markdown",
   "metadata": {
    "colab_type": "text",
    "id": "R8T4BAeoZ7rH"
   },
   "source": [
    "### Output Top 5 Softmax Probabilities For Each Image Found on the Web"
   ]
  },
  {
   "cell_type": "markdown",
   "metadata": {
    "colab_type": "text",
    "id": "kB3P2e71Z7rJ"
   },
   "source": [
    "For each of the new images, print out the model's softmax probabilities to show the **certainty** of the model's predictions (limit the output to the top 5 probabilities for each image). [`tf.nn.top_k`](https://www.tensorflow.org/versions/r0.12/api_docs/python/nn.html#top_k) could prove helpful here. \n",
    "\n",
    "The example below demonstrates how tf.nn.top_k can be used to find the top k predictions for each image.\n",
    "\n",
    "`tf.nn.top_k` will return the values and indices (class ids) of the top k predictions. So if k=3, for each sign, it'll return the 3 largest probabilities (out of a possible 43) and the correspoding class ids.\n",
    "\n",
    "Take this numpy array as an example. The values in the array represent predictions. The array contains softmax probabilities for five candidate images with six possible classes. `tf.nn.top_k` is used to choose the three classes with the highest probability:\n",
    "\n",
    "```\n",
    "# (5, 6) array\n",
    "a = np.array([[ 0.24879643,  0.07032244,  0.12641572,  0.34763842,  0.07893497,\n",
    "         0.12789202],\n",
    "       [ 0.28086119,  0.27569815,  0.08594638,  0.0178669 ,  0.18063401,\n",
    "         0.15899337],\n",
    "       [ 0.26076848,  0.23664738,  0.08020603,  0.07001922,  0.1134371 ,\n",
    "         0.23892179],\n",
    "       [ 0.11943333,  0.29198961,  0.02605103,  0.26234032,  0.1351348 ,\n",
    "         0.16505091],\n",
    "       [ 0.09561176,  0.34396535,  0.0643941 ,  0.16240774,  0.24206137,\n",
    "         0.09155967]])\n",
    "```\n",
    "\n",
    "Running it through `sess.run(tf.nn.top_k(tf.constant(a), k=3))` produces:\n",
    "\n",
    "```\n",
    "TopKV2(values=array([[ 0.34763842,  0.24879643,  0.12789202],\n",
    "       [ 0.28086119,  0.27569815,  0.18063401],\n",
    "       [ 0.26076848,  0.23892179,  0.23664738],\n",
    "       [ 0.29198961,  0.26234032,  0.16505091],\n",
    "       [ 0.34396535,  0.24206137,  0.16240774]]), indices=array([[3, 0, 5],\n",
    "       [0, 1, 4],\n",
    "       [0, 5, 1],\n",
    "       [1, 3, 5],\n",
    "       [1, 4, 3]], dtype=int32))\n",
    "```\n",
    "\n",
    "Looking just at the first row we get `[ 0.34763842,  0.24879643,  0.12789202]`, you can confirm these are the 3 largest probabilities in `a`. You'll also notice `[3, 0, 5]` are the corresponding indices."
   ]
  },
  {
   "cell_type": "code",
   "execution_count": 60,
   "metadata": {
    "colab": {
     "autoexec": {
      "startup": false,
      "wait_interval": 0
     }
    },
    "colab_type": "code",
    "id": "ytkPyx5WZ7rL"
   },
   "outputs": [
    {
     "name": "stdout",
     "output_type": "stream",
     "text": [
      "INFO:tensorflow:Restoring parameters from ./trafficTest\n",
      "[[  2.17338155e-07   1.92526869e-07   2.04327880e-05   2.43948534e-06\n",
      "    3.06116306e-08   7.43704192e-08   5.58451115e-12   5.92038463e-09\n",
      "    9.68739672e-12   3.57486285e-09   3.29782182e-07   3.64066509e-04\n",
      "    7.44071613e-08   1.21279242e-09   1.12989375e-11   1.40584433e-09\n",
      "    6.12139462e-12   9.86237203e-11   2.58587602e-06   1.14734215e-03\n",
      "    8.43492209e-09   1.40416790e-02   5.23833421e-08   5.15763601e-03\n",
      "    5.51196281e-04   6.39237624e-06   7.00352814e-07   3.44696304e-07\n",
      "    1.14211707e-06   1.54526541e-02   4.76069181e-06   9.63245332e-01\n",
      "    3.00626121e-17   1.68218808e-08   1.63057706e-10   7.42065742e-09\n",
      "    6.80551004e-10   2.89808128e-07   1.54063506e-09   9.89747040e-09\n",
      "    1.25695561e-08   1.21246549e-14   2.22451818e-13]\n",
      " [  7.32650624e-16   1.14449694e-17   5.95877387e-15   1.12113334e-15\n",
      "    1.97339374e-22   1.26826837e-18   1.43883655e-11   2.00004491e-25\n",
      "    2.78390307e-33   1.48112472e-22   5.14300949e-26   9.08139706e-01\n",
      "    3.17989382e-14   4.05877073e-13   5.65218723e-30   1.07415014e-26\n",
      "    1.78759965e-30   9.79894113e-23   1.52022025e-07   2.63346428e-11\n",
      "    6.62891342e-09   1.96498026e-11   2.97420854e-18   9.13690599e-07\n",
      "    5.28213102e-04   7.94094503e-02   3.95003258e-12   1.19216945e-02\n",
      "    2.14445003e-10   7.41247680e-15   2.22124097e-10   4.81363484e-13\n",
      "    1.36818193e-22   5.92921383e-20   3.59436551e-23   1.29484068e-21\n",
      "    1.68931413e-19   1.13255980e-21   7.01228298e-10   5.89153495e-14\n",
      "    1.23570492e-15   4.25777787e-16   4.45037451e-20]\n",
      " [  0.00000000e+00   0.00000000e+00   0.00000000e+00   1.00252412e-31\n",
      "    0.00000000e+00   0.00000000e+00   0.00000000e+00   0.00000000e+00\n",
      "    0.00000000e+00   3.92398566e-29   3.11561212e-36   0.00000000e+00\n",
      "    1.12383505e-26   9.03667323e-28   2.60747385e-37   0.00000000e+00\n",
      "    2.46781844e-32   3.06438246e-38   0.00000000e+00   2.04322159e-36\n",
      "    9.68949122e-30   0.00000000e+00   0.00000000e+00   0.00000000e+00\n",
      "    0.00000000e+00   5.20294885e-33   7.73148808e-34   0.00000000e+00\n",
      "    0.00000000e+00   0.00000000e+00   0.00000000e+00   0.00000000e+00\n",
      "    0.00000000e+00   1.12992467e-29   1.75810718e-26   1.00000000e+00\n",
      "    1.45011858e-33   1.38526830e-29   0.00000000e+00   1.92086478e-36\n",
      "    0.00000000e+00   0.00000000e+00   0.00000000e+00]\n",
      " [  7.84229531e-16   1.05508534e-33   0.00000000e+00   0.00000000e+00\n",
      "    6.95829921e-35   0.00000000e+00   0.00000000e+00   4.22464204e-35\n",
      "    1.23105774e-31   1.95505047e-26   1.59728793e-23   4.15154465e-31\n",
      "    5.63609435e-29   3.63095717e-32   1.65776579e-14   0.00000000e+00\n",
      "    0.00000000e+00   1.00000000e+00   2.36285858e-35   4.94241870e-37\n",
      "    9.83052045e-30   1.63294092e-31   0.00000000e+00   7.73431159e-36\n",
      "    0.00000000e+00   7.17889777e-37   1.55855195e-28   0.00000000e+00\n",
      "    1.39361137e-36   3.20212394e-38   6.31135861e-28   1.00725986e-28\n",
      "    0.00000000e+00   9.30756277e-30   4.87866758e-17   8.08225370e-25\n",
      "    5.32685069e-37   1.17143302e-19   2.02925149e-25   1.33666352e-37\n",
      "    3.88910768e-25   5.02420233e-35   0.00000000e+00]\n",
      " [  2.11965645e-12   3.06272396e-10   3.43414164e-09   4.78660240e-06\n",
      "    1.45561591e-10   2.51446364e-11   4.15952139e-17   2.69041664e-11\n",
      "    3.57944056e-12   3.17924730e-07   3.04029094e-11   8.13050460e-10\n",
      "    1.79203835e-05   1.87400830e-04   2.27437188e-12   3.99627352e-05\n",
      "    8.71234973e-10   2.41677365e-13   3.77094942e-08   1.23558899e-10\n",
      "    1.47884038e-10   1.63069847e-09   2.26207986e-09   2.39365807e-08\n",
      "    1.68249858e-08   1.93813576e-05   1.26981377e-07   1.43091878e-13\n",
      "    9.18013394e-01   3.24583054e-02   8.00543365e-09   1.90228232e-11\n",
      "    6.62542504e-07   2.98020275e-10   1.35177928e-07   4.89712395e-02\n",
      "    6.57001067e-07   1.26858073e-12   4.47180568e-08   2.85648042e-04\n",
      "    1.51413826e-10   1.27901467e-10   4.43908254e-18]]\n",
      "TopKV2(values=array([[  9.63245332e-01,   1.54526541e-02,   1.40416790e-02,\n",
      "          5.15763601e-03,   1.14734215e-03],\n",
      "       [  9.08139706e-01,   7.94094503e-02,   1.19216945e-02,\n",
      "          5.28213102e-04,   9.13690599e-07],\n",
      "       [  1.00000000e+00,   1.75810718e-26,   1.12383505e-26,\n",
      "          9.03667323e-28,   3.92398566e-29],\n",
      "       [  1.00000000e+00,   1.65776579e-14,   7.84229531e-16,\n",
      "          4.87866758e-17,   1.17143302e-19],\n",
      "       [  9.18013394e-01,   4.89712395e-02,   3.24583054e-02,\n",
      "          2.85648042e-04,   1.87400830e-04]], dtype=float32), indices=array([[31, 29, 21, 23, 19],\n",
      "       [11, 25, 27, 24, 23],\n",
      "       [35, 34, 12, 13,  9],\n",
      "       [17, 14,  0, 34, 37],\n",
      "       [28, 35, 29, 39, 13]], dtype=int32))\n"
     ]
    }
   ],
   "source": [
    "### Print out the top five softmax probabilities for the predictions on the German traffic sign images found on the web. \n",
    "### Feel free to use as many code cells as needed.\n",
    "softmax_logits = tf.nn.softmax(logits)\n",
    "top_k = tf.nn.top_k(softmax_logits, k=5)\n",
    "\n",
    "\n",
    "with tf.Session() as sess:\n",
    "    sess.run(tf.global_variables_initializer())\n",
    "    saver.restore(sess, tf.train.latest_checkpoint('.'))\n",
    "    my_softmax_logits = sess.run(softmax_logits, feed_dict={x: my_images, keep_prob: 1.0})\n",
    "    my_top_k = sess.run(top_k, feed_dict={x: my_images, keep_prob: 1.0})\n",
    "    print(my_softmax_logits)\n",
    "    print(my_top_k)\n",
    "    \n",
    "   "
   ]
  },
  {
   "cell_type": "markdown",
   "metadata": {
    "colab_type": "text",
    "id": "r01VUwMcZ7rQ"
   },
   "source": [
    "### Project Writeup\n",
    "\n",
    "Once you have completed the code implementation, document your results in a project writeup using this [template](https://github.com/udacity/CarND-Traffic-Sign-Classifier-Project/blob/master/writeup_template.md) as a guide. The writeup can be in a markdown or pdf file. "
   ]
  },
  {
   "cell_type": "markdown",
   "metadata": {
    "colab_type": "text",
    "id": "NP0b-nDAZ7rU"
   },
   "source": [
    "> **Note**: Once you have completed all of the code implementations and successfully answered each question above, you may finalize your work by exporting the iPython Notebook as an HTML document. You can do this by using the menu above and navigating to  \\n\",\n",
    "    \"**File -> Download as -> HTML (.html)**. Include the finished document along with this notebook as your submission."
   ]
  },
  {
   "cell_type": "markdown",
   "metadata": {
    "colab_type": "text",
    "id": "jjefbkcNZ7rW"
   },
   "source": [
    "---\n",
    "\n",
    "## Step 4 (Optional): Visualize the Neural Network's State with Test Images\n",
    "\n",
    " This Section is not required to complete but acts as an additional excersise for understaning the output of a neural network's weights. While neural networks can be a great learning device they are often referred to as a black box. We can understand what the weights of a neural network look like better by plotting their feature maps. After successfully training your neural network you can see what it's feature maps look like by plotting the output of the network's weight layers in response to a test stimuli image. From these plotted feature maps, it's possible to see what characteristics of an image the network finds interesting. For a sign, maybe the inner network feature maps react with high activation to the sign's boundary outline or to the contrast in the sign's painted symbol.\n",
    "\n",
    " Provided for you below is the function code that allows you to get the visualization output of any tensorflow weight layer you want. The inputs to the function should be a stimuli image, one used during training or a new one you provided, and then the tensorflow variable name that represents the layer's state during the training process, for instance if you wanted to see what the [LeNet lab's](https://classroom.udacity.com/nanodegrees/nd013/parts/fbf77062-5703-404e-b60c-95b78b2f3f9e/modules/6df7ae49-c61c-4bb2-a23e-6527e69209ec/lessons/601ae704-1035-4287-8b11-e2c2716217ad/concepts/d4aca031-508f-4e0b-b493-e7b706120f81) feature maps looked like for it's second convolutional layer you could enter conv2 as the tf_activation variable.\n",
    "\n",
    "For an example of what feature map outputs look like, check out NVIDIA's results in their paper [End-to-End Deep Learning for Self-Driving Cars](https://devblogs.nvidia.com/parallelforall/deep-learning-self-driving-cars/) in the section Visualization of internal CNN State. NVIDIA was able to show that their network's inner weights had high activations to road boundary lines by comparing feature maps from an image with a clear path to one without. Try experimenting with a similar test to show that your trained network's weights are looking for interesting features, whether it's looking at differences in feature maps from images with or without a sign, or even what feature maps look like in a trained network vs a completely untrained one on the same sign image.\n",
    "\n",
    "<figure>\n",
    " <img src=\"visualize_cnn.png\" width=\"380\" alt=\"Combined Image\" />\n",
    " <figcaption>\n",
    " <p></p> \n",
    " <p style=\"text-align: center;\"> Your output should look something like this (above)</p> \n",
    " </figcaption>\n",
    "</figure>\n",
    " <p></p> \n"
   ]
  },
  {
   "cell_type": "code",
   "execution_count": 15,
   "metadata": {
    "colab": {
     "autoexec": {
      "startup": false,
      "wait_interval": 0
     }
    },
    "colab_type": "code",
    "id": "RLWavxkcZ7rW"
   },
   "outputs": [],
   "source": [
    "### Visualize your network's feature maps here.\n",
    "### Feel free to use as many code cells as needed.\n",
    "\n",
    "# image_input: the test image being fed into the network to produce the feature maps\n",
    "# tf_activation: should be a tf variable name used during your training procedure that represents the calculated state of a specific weight layer\n",
    "# activation_min/max: can be used to view the activation contrast in more detail, by default matplot sets min and max to the actual min and max values of the output\n",
    "# plt_num: used to plot out multiple different weight feature map sets on the same block, just extend the plt number for each new feature map entry\n",
    "\n",
    "def outputFeatureMap(image_input, tf_activation, activation_min=-1, activation_max=-1 ,plt_num=1):\n",
    "    # Here make sure to preprocess your image_input in a way your network expects\n",
    "    # with size, normalization, ect if needed\n",
    "    # image_input =\n",
    "    # Note: x should be the same name as your network's tensorflow data placeholder variable\n",
    "    # If you get an error tf_activation is not defined it may be having trouble accessing the variable from inside a function\n",
    "    activation = tf_activation.eval(session=sess,feed_dict={x : image_input})\n",
    "    featuremaps = activation.shape[3]\n",
    "    plt.figure(plt_num, figsize=(15,15))\n",
    "    for featuremap in range(featuremaps):\n",
    "        plt.subplot(6,8, featuremap+1) # sets the number of feature maps to show on each row and column\n",
    "        plt.title('FeatureMap ' + str(featuremap)) # displays the feature map number\n",
    "        if activation_min != -1 & activation_max != -1:\n",
    "            plt.imshow(activation[0,:,:, featuremap], interpolation=\"nearest\", vmin =activation_min, vmax=activation_max, cmap=\"gray\")\n",
    "        elif activation_max != -1:\n",
    "            plt.imshow(activation[0,:,:, featuremap], interpolation=\"nearest\", vmax=activation_max, cmap=\"gray\")\n",
    "        elif activation_min !=-1:\n",
    "            plt.imshow(activation[0,:,:, featuremap], interpolation=\"nearest\", vmin=activation_min, cmap=\"gray\")\n",
    "        else:\n",
    "            plt.imshow(activation[0,:,:, featuremap], interpolation=\"nearest\", cmap=\"gray\")"
   ]
  }
 ],
 "metadata": {
  "accelerator": "GPU",
  "colab": {
   "collapsed_sections": [],
   "default_view": {},
   "name": "Traffic_Sign_Classifier - Copy - Acc-95.ipynb",
   "provenance": [],
   "version": "0.3.2",
   "views": {}
  },
  "kernelspec": {
   "display_name": "Python 3",
   "language": "python",
   "name": "python3"
  },
  "language_info": {
   "codemirror_mode": {
    "name": "ipython",
    "version": 3
   },
   "file_extension": ".py",
   "mimetype": "text/x-python",
   "name": "python",
   "nbconvert_exporter": "python",
   "pygments_lexer": "ipython3",
   "version": "3.6.3"
  }
 },
 "nbformat": 4,
 "nbformat_minor": 1
}
